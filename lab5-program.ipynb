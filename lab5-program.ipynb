{
 "cells": [
  {
   "cell_type": "code",
   "execution_count": 3,
   "metadata": {},
   "outputs": [
    {
     "name": "stdin",
     "output_type": "stream",
     "text": [
      "What is your name?  Praneel Murthy\n",
      "Which year of college are you in? (1 = freshman, 2 = sophomore, 3 = junior, 4 = senior) 1\n"
     ]
    },
    {
     "name": "stdout",
     "output_type": "stream",
     "text": [
      "Hello Praneel Murthy! You are a Freshman at the University of Pittsburgh!\n"
     ]
    }
   ],
   "source": [
    "name = input(\"What is your name? \")\n",
    "year = int(input(\"Which year of college are you in? (1 = freshman, 2 = sophomore, 3 = junior, 4 = senior)\"))\n",
    "grade = \"\"\n",
    "if year == 1:\n",
    "    grade = \"Freshman\"\n",
    "elif year == 2:\n",
    "    grade = \"Sophomore\"\n",
    "elif year == 3:\n",
    "    grade = \"Junior\"\n",
    "elif year == 4:\n",
    "    grade = \"Senior\"\n",
    "print(\"Hello \" + name + \"! You are a \" + grade + \" at the University of Pittsburgh!\")"
   ]
  }
 ],
 "metadata": {
  "kernelspec": {
   "display_name": "Python 3",
   "language": "python",
   "name": "python3"
  },
  "language_info": {
   "codemirror_mode": {
    "name": "ipython",
    "version": 3
   },
   "file_extension": ".py",
   "mimetype": "text/x-python",
   "name": "python",
   "nbconvert_exporter": "python",
   "pygments_lexer": "ipython3",
   "version": "3.8.3"
  }
 },
 "nbformat": 4,
 "nbformat_minor": 4
}
